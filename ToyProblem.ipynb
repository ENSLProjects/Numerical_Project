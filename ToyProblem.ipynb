{
 "cells": [
  {
   "cell_type": "code",
   "execution_count": 69,
   "id": "1da7b56f",
   "metadata": {},
   "outputs": [
    {
     "name": "stdout",
     "output_type": "stream",
     "text": [
      "Matplotlib backend: qtagg\n"
     ]
    }
   ],
   "source": [
    "# Use inline backend for static figures in VS Code\n",
    "%matplotlib qt\n",
    "\n",
    "import numpy as np\n",
    "\n",
    "import networkx as nx\n",
    "\n",
    "# Remove explicit backend selection to avoid conflicts\n",
    "# import matplotlib\n",
    "# matplotlib.use('macosx')\n",
    "\n",
    "import matplotlib.pyplot as plt\n",
    "\n",
    "print('Matplotlib backend:', plt.get_backend())"
   ]
  },
  {
   "cell_type": "markdown",
   "id": "74d453cd",
   "metadata": {},
   "source": [
    "Hénon model: \n",
    "\\begin{align}\n",
    "    x_{n+1} &= y_n + 1 - ax_n^2\\\\\n",
    "    y_{n+1} &= bx_n\n",
    "\\end{align}\n"
   ]
  },
  {
   "cell_type": "code",
   "execution_count": 2,
   "id": "be1977a7",
   "metadata": {},
   "outputs": [],
   "source": [
    "def henon_map(a, b, x0, y0, n):\n",
    "    \"\"\"\n",
    "    Generate points of the Henon map\n",
    "    \"\"\"\n",
    "    x, y = x0, y0\n",
    "    points = np.zeros((n, 2))\n",
    "    for i in range(n):\n",
    "        x_new = 1 - a * x**2 + y\n",
    "        y_new = b * x\n",
    "        points[i, :] = [x_new, y_new]\n",
    "        x, y = x_new, y_new\n",
    "    return points\n",
    "\n",
    "\n",
    "def plot_henon_map(a, b, x0, y0, n, transitoire):\n",
    "    \"\"\"\n",
    "    Plot the Henon map\n",
    "    \"\"\"\n",
    "    points = henon_map(a, b, x0, y0, n)\n",
    "    fig, ax = plt.subplots()\n",
    "    ax.scatter(points[transitoire:, 0], points[transitoire:, 1])\n",
    "    ax.set_title(f\"Henon Map (a={a}, b={b})\")\n",
    "    ax.set_xlabel(\"x\")\n",
    "    ax.set_ylabel(\"y\")\n",
    "    ax.axis(\"equal\")\n",
    "    ax.grid(True)\n",
    "    plt.show()\n",
    "\n",
    "\n",
    "def plot_bifurcation_diagram(a_values, b, x0, y0, n, last, axis):\n",
    "    \"\"\"\n",
    "    Plot the bifurcation diagram of the Henon map\n",
    "    \"\"\"\n",
    "    fig, ax = plt.subplots()\n",
    "    if axis == \"x\":\n",
    "        for a in a_values:\n",
    "            points = henon_map(a, b, x0, y0, n)\n",
    "            ax.scatter([a] * last, points[-last:, 0], s=0.5, c=\"blue\")\n",
    "    else:\n",
    "        for a in a_values:\n",
    "            points = henon_map(a, b, x0, y0, n)\n",
    "            ax.scatter([a] * last, points[-last:, 1], s=0.5, c=\"blue\")\n",
    "    ax.set_title(f\"Bifurcation Diagram (b={b})\")\n",
    "    ax.set_xlabel(\"a\")\n",
    "    ax.set_ylabel(\"x\")\n",
    "    ax.grid(True)\n",
    "    plt.show()"
   ]
  },
  {
   "cell_type": "code",
   "execution_count": 3,
   "id": "d68191c8",
   "metadata": {},
   "outputs": [],
   "source": [
    "plot_henon_map(a=1, b=0.3, x0=0.1, y0=0.1, n=100000, transitoire=100)"
   ]
  },
  {
   "cell_type": "code",
   "execution_count": 4,
   "id": "665d1c45",
   "metadata": {},
   "outputs": [
    {
     "name": "stderr",
     "output_type": "stream",
     "text": [
      "/var/folders/g9/2s_b0h716cdgj18bgy7tjlww0000gn/T/ipykernel_2226/3436512866.py:8: RuntimeWarning: overflow encountered in scalar power\n",
      "  x_new = 1 - a * x**2 + y\n"
     ]
    }
   ],
   "source": [
    "plot_bifurcation_diagram(a_values=np.linspace(0, 1.6, 1000), b=0.3, x0=0.1, y0=0.1, n=10000, last=100, axis=\"x\")"
   ]
  },
  {
   "cell_type": "code",
   "execution_count": 5,
   "id": "ee1cd69f",
   "metadata": {},
   "outputs": [],
   "source": [
    "def coupled_henon_map(a, b, c, d, x0, y0, u0, v0, n, Eps):\n",
    "    \"\"\"Generate points of the coupled Henon map.\"\"\"\n",
    "    x, y = x0, y0\n",
    "    u, v = u0, v0\n",
    "    points = np.zeros((n, 2, 2))  # [(x, y, u, v)]\n",
    "    for i in range(n):\n",
    "        x_new = 1 - a * ((1 - Eps) * x + Eps * u) ** 2 + ((1 - Eps) * y + Eps * v)\n",
    "        y_new = b * ((1 - Eps) * x + Eps * u)\n",
    "        u_new = 1 - c * ((1 - Eps) * u + Eps * x) ** 2 + ((1 - Eps) * v + Eps * y)\n",
    "        v_new = d * ((1 - Eps) * u + Eps * x)\n",
    "\n",
    "        points[i, :, :] = [\n",
    "            [x_new, y_new],\n",
    "            [u_new, v_new],\n",
    "        ]  # append((x_new, y_new, u_new, v_new))\n",
    "        x, y = x_new, y_new\n",
    "        u, v = u_new, v_new\n",
    "\n",
    "    return points\n",
    "\n",
    "\n",
    "def plot_coupled_henon_map(a, b, c, d, x0, y0, u0, v0, n, Eps, transitoire):\n",
    "    \"\"\"Plot the coupled Henon map.\"\"\"\n",
    "    points = coupled_henon_map(a, b, c, d, x0, y0, u0, v0, n, Eps)\n",
    "    plt.plot(\n",
    "        points[transitoire:, 0, 0],\n",
    "        points[transitoire:, 0, 1],\n",
    "        \"b.\",\n",
    "        markersize=5,\n",
    "        label=\"Map 1\",\n",
    "    )\n",
    "    plt.plot(\n",
    "        points[transitoire:, 1, 0],\n",
    "        points[transitoire:, 1, 1],\n",
    "        \"r.\",\n",
    "        markersize=5,\n",
    "        label=\"Map 2\",\n",
    "    )\n",
    "    plt.title(f\"Coupled Henon Map (a={a}, b={b}, c={c}, d={d}, Eps={Eps})\")\n",
    "    plt.xlabel(\"First coordinate\")\n",
    "    plt.ylabel(\"Second coordinate\")\n",
    "    plt.axis(\"equal\")\n",
    "    plt.grid(True)\n",
    "    plt.legend()\n",
    "    plt.show()"
   ]
  },
  {
   "cell_type": "code",
   "execution_count": 6,
   "id": "5bb7cabd",
   "metadata": {},
   "outputs": [],
   "source": [
    "plot_coupled_henon_map(a=0.6, b=0.3,c = 1.2, d = 0.3, x0=0.1, y0=0.1, u0=0.1, v0=0.1, n=100000, Eps=0.1, transitoire=100) "
   ]
  },
  {
   "cell_type": "code",
   "execution_count": 7,
   "id": "06d5660a",
   "metadata": {},
   "outputs": [],
   "source": [
    "a = 1.2\n",
    "b = 0.3\n",
    "c = 0.3\n",
    "d = 0.3\n",
    "x0 = 0.0\n",
    "y0 = 0.0\n",
    "u0 = 0.0\n",
    "v0 = 0.0\n",
    "n = int(1e5)\n",
    "points_gardes = 2000\n",
    "transitoire = 100\n",
    "Eps = [0.1, 0.2, 0.3, 0.4, 0.5]"
   ]
  },
  {
   "cell_type": "code",
   "execution_count": 8,
   "id": "8fa7cbd9",
   "metadata": {},
   "outputs": [],
   "source": [
    "def coupling_sum(x, y, delta):\n",
    "    \"\"\"Return the average sum wrt a certain coupling value\"\"\"\n",
    "    assert 0 < delta < 1, \"wrong coupling\"\n",
    "    return (1 - delta) * x + delta * y\n",
    "\n",
    "\n",
    "def coupled_henon_wrt_coupling(a, b, c, d, x0, y0, u0, v0, n, Eps, points_gardes):\n",
    "    \"\"\"Compute the coupled Henon maps for several coupling strengths Eps.\n",
    "    Returns an array of shape (points_gardes, 2, num_couplings) where axis 0=time, axis1=(x,y), axis2=coupling index\n",
    "\n",
    "    be aware that it returns the coupled variables\n",
    "    \"\"\"\n",
    "    p = len(Eps)\n",
    "    points = np.zeros((points_gardes, 2, p))\n",
    "    all_points = np.zeros((points_gardes, 2, 2, p))\n",
    "    for i in range(p):\n",
    "        all_points[:, :, :, i] = coupled_henon_map(\n",
    "            a, b, c, d, x0, y0, u0, v0, n, Eps[i]\n",
    "        )[-points_gardes:, :, :]\n",
    "        points = coupling_sum(all_points[:, 0, :, :], all_points[:, 1, :, :], Eps[i])\n",
    "    return points"
   ]
  },
  {
   "cell_type": "code",
   "execution_count": 9,
   "id": "dc5fbfe3",
   "metadata": {},
   "outputs": [
    {
     "name": "stdout",
     "output_type": "stream",
     "text": [
      "simu shape: (2000, 2, 5)\n"
     ]
    }
   ],
   "source": [
    "simu = coupled_henon_wrt_coupling(a, b, c, d, x0, y0, u0, v0, n, Eps, points_gardes)\n",
    "print('simu shape:', np.shape(simu))"
   ]
  },
  {
   "cell_type": "code",
   "execution_count": 10,
   "id": "ff816d32",
   "metadata": {},
   "outputs": [
    {
     "name": "stdout",
     "output_type": "stream",
     "text": [
      "(2000,)\n"
     ]
    }
   ],
   "source": [
    "print(np.shape(list(simu[:,0,0])))"
   ]
  },
  {
   "cell_type": "code",
   "execution_count": 11,
   "id": "dae87c8c",
   "metadata": {},
   "outputs": [],
   "source": [
    "fig, ax = plt.subplots()\n",
    "for i in range(len(Eps)):\n",
    "    ax.scatter(simu[:,0,i], simu[:,1,i], s=0.5, label=f\"Eps = {Eps[i]}\")\n",
    "ax.set_xlabel(\"x\")\n",
    "ax.set_ylabel(\"y\")\n",
    "plt.legend()\n",
    "plt.show()"
   ]
  },
  {
   "cell_type": "markdown",
   "id": "4a9fbc04",
   "metadata": {},
   "source": [
    "détecter un régime périodique ou chaotique : pour un régime périodique le nombre de points stables différents est un multiple de 2"
   ]
  },
  {
   "cell_type": "code",
   "execution_count": 12,
   "id": "8c9afbb4",
   "metadata": {},
   "outputs": [],
   "source": [
    "def count(data, axis: str):\n",
    "    assert len(np.shape(data)) == 4, \"wrong data shape input\"\n",
    "    if axis == \"x\":\n",
    "        p = (0, 0)\n",
    "    elif axis == \"y\":\n",
    "        p = (0, 1)\n",
    "    elif axis == \"u\":\n",
    "        p = (1, 0)\n",
    "    elif axis == \"v\":\n",
    "        p = (1, 1)\n",
    "    else:\n",
    "        return \"axis not existent\"\n",
    "    simu = np.sort(data[:, p[0], p[1], :], axis=0)\n",
    "    k = len(simu[0])\n",
    "    nb_points = [1] * k\n",
    "    for i in range(k):\n",
    "        start = simu[0, i]\n",
    "        for j in range(1, len(simu)):\n",
    "            if simu[j, i] != start:\n",
    "                nb_points[i] += 1\n",
    "                start = simu[j, i]\n",
    "    return nb_points"
   ]
  },
  {
   "cell_type": "code",
   "execution_count": 13,
   "id": "f6006cbf",
   "metadata": {},
   "outputs": [],
   "source": [
    "def full_points(a, b, c, d, x0, y0, u0, v0, n, Eps, points_gardes):\n",
    "    p = len(Eps)\n",
    "    all_points = np.zeros((points_gardes, 2, 2, p))\n",
    "    for i in range(p):\n",
    "        all_points[:, :, :, i] = coupled_henon_map(\n",
    "            a, b, c, d, x0, y0, u0, v0, n, Eps[i]\n",
    "        )[-points_gardes:, :, :]\n",
    "    return all_points"
   ]
  },
  {
   "cell_type": "code",
   "execution_count": 14,
   "id": "38cc980b",
   "metadata": {},
   "outputs": [],
   "source": [
    "full_data = full_points(a, b, c, d, x0, y0, u0, v0, n, Eps, points_gardes)"
   ]
  },
  {
   "cell_type": "code",
   "execution_count": 15,
   "id": "f540c3ed",
   "metadata": {},
   "outputs": [
    {
     "name": "stdout",
     "output_type": "stream",
     "text": [
      "[ 0.98664644 -0.59563394  1.25548211 ... -0.59563394  1.25548211\n",
      " -1.03228212]\n"
     ]
    }
   ],
   "source": [
    "print(full_data[:,0,0,2])"
   ]
  },
  {
   "cell_type": "code",
   "execution_count": 16,
   "id": "56c01825",
   "metadata": {},
   "outputs": [
    {
     "data": {
      "text/plain": [
       "[2000, 11, 4, 9, 2]"
      ]
     },
     "execution_count": 16,
     "metadata": {},
     "output_type": "execute_result"
    }
   ],
   "source": [
    "count(full_data, \"x\")"
   ]
  },
  {
   "cell_type": "markdown",
   "id": "b2ebf519",
   "metadata": {},
   "source": [
    "Pour savoir si nombre de période discret ou continu il suffit de compter selon une des deux dimensions"
   ]
  },
  {
   "cell_type": "code",
   "execution_count": 17,
   "id": "157bf487",
   "metadata": {},
   "outputs": [],
   "source": [
    "rng = np.random.default_rng(12345)"
   ]
  },
  {
   "cell_type": "code",
   "execution_count": 18,
   "id": "f787e007",
   "metadata": {},
   "outputs": [],
   "source": [
    "Epsilon = rng.uniform(0, 1, 100)"
   ]
  },
  {
   "cell_type": "code",
   "execution_count": 19,
   "id": "edb8bbba",
   "metadata": {},
   "outputs": [],
   "source": [
    "Epsilon = np.abs(rng.normal(0.15, 1e-2, 1000))"
   ]
  },
  {
   "cell_type": "code",
   "execution_count": 20,
   "id": "615a1af5",
   "metadata": {},
   "outputs": [],
   "source": [
    "data = full_points(a, b, c, d, x0, y0, u0, v0, n, Epsilon, points_gardes)\n",
    "u_counting = count(data, \"u\")\n",
    "x_counting = count(data, \"x\")\n",
    "y_counting = count(data, \"y\")\n",
    "v_counting = count(data, \"v\")"
   ]
  },
  {
   "cell_type": "markdown",
   "id": "9a49664b",
   "metadata": {},
   "source": [
    "uncoupled data to compare with the coupling"
   ]
  },
  {
   "cell_type": "code",
   "execution_count": 21,
   "id": "2415ff98",
   "metadata": {},
   "outputs": [],
   "source": [
    "fig, (ax1, ax2) = plt.subplots(1, 2)\n",
    "ax1.scatter(Epsilon, x_counting, label=\"node 1: x\", marker=\"x\", s=10)\n",
    "ax1.scatter(Epsilon, u_counting, label=\"node 2: u\", marker=\"*\", s=10)\n",
    "ax1.set_xlabel(\"e coupling constant\")\n",
    "ax1.set_ylabel(\"number of different stable points of each node\")\n",
    "ax2.scatter(Epsilon, y_counting, label=\"node 1: y\", marker=\"x\", s=10)\n",
    "ax2.scatter(Epsilon, v_counting, label=\"node 2: v\", marker=\"*\", s=10)\n",
    "ax2.set_xlabel(\"e coupling constant\")\n",
    "ax1.legend()\n",
    "ax2.legend()\n",
    "plt.title(\"Fixed set of parameters for the Henon equations\")\n",
    "plt.show()"
   ]
  },
  {
   "cell_type": "markdown",
   "id": "17c817c4",
   "metadata": {},
   "source": [
    "Création d'une fonction qui transforme un graphe en système de Hénons couplés\n"
   ]
  },
  {
   "cell_type": "markdown",
   "id": "ab396acf",
   "metadata": {},
   "source": [
    "D'abord quelques fonctions pour transformer un graphe en Matrice de conectivité"
   ]
  },
  {
   "cell_type": "code",
   "execution_count": 92,
   "id": "b6f41f5c",
   "metadata": {},
   "outputs": [],
   "source": [
    "def conectivity_nonorineted_matrix(G):\n",
    "    A = np.zeros((len(G.nodes), len(G.nodes)))\n",
    "    for i, j in G.edges:\n",
    "        A[i, j] = 1\n",
    "        A[j, i] = 1\n",
    "    return A\n",
    "\n",
    "def connectivty(G): \n",
    "    return nx.to_numpy_array(G)\n",
    "\n",
    "#nx.to_scipy_sparse_array( ,format='csr')\n",
    "\n",
    "def neighbors(A, i):\n",
    "    neighborhood = []\n",
    "    for j in range(len(A)):\n",
    "        if A[j, i] == 1.0:\n",
    "            neighborhood.append(j)\n",
    "    return neighborhood"
   ]
  },
  {
   "cell_type": "markdown",
   "id": "a1abd884",
   "metadata": {},
   "source": [
    "les fonctions pour l'intégration"
   ]
  },
  {
   "cell_type": "code",
   "execution_count": 201,
   "id": "88e78b26",
   "metadata": {},
   "outputs": [],
   "source": [
    "def transfo_coupling_vec(G, X, Y, Eps):\n",
    "    # X_new = np.zeros(len(G.nodes))\n",
    "    # Y_new = np.zeros(len(G.nodes))\n",
    "    m, n = len(X), len(Y)\n",
    "    assert m == n, \"missmatch dimension\"\n",
    "    Adjacance = connectivty(G)\n",
    "    kX = np.sum(Adjacance, axis=1) * X\n",
    "    kY = np.sum(Adjacance, axis=1) * Y\n",
    "    transition = Eps * Adjacance + np.identity(m)\n",
    "    X_new = np.dot(transition, X) - Eps * kX\n",
    "    Y_new = np.dot(transition, Y) - Eps * kY\n",
    "    return X_new, Y_new\n",
    "\n",
    "\n",
    "def evolution_vec(G, X_0, Y_0, N, list_ab, Eps, Norm:bool):\n",
    "    n, m = len(X_0), len(Y_0)\n",
    "    assert n == m, \"wrong dimensions, both initial conditions don't have the same size\"\n",
    "    X = np.zeros((n, N))\n",
    "    Y = np.zeros((n, N))\n",
    "    X[:, 0] = X_0/np.linalg.norm(X_0)\n",
    "    Y[:, 0] = Y_0/np.linalg.norm(Y_0)\n",
    "    UN = np.ones(len(G.nodes))\n",
    "    X_c, Y_c = transfo_coupling_vec(G, X[:, 0], Y[:, 0], Eps)\n",
    "    if Norm:\n",
    "        for t in range(1, N):\n",
    "            print(\"evolution step\", t)\n",
    "            mediumX = -list_ab[0, :] * X_c**2 + UN + Y_c\n",
    "            mediumY = list_ab[1, :] * X_c\n",
    "            X[:, t] = mediumX/np.linalg.norm(mediumX)\n",
    "            Y[:, t] = mediumY/np.linalg.norm(mediumY)\n",
    "            X_c, Y_c = transfo_coupling_vec(G, X[:, t], Y[:, t], Eps)\n",
    "        return X, Y\n",
    "    else:\n",
    "        for t in range(1, N):\n",
    "            print(\"evolution step\", t)\n",
    "            X[:, t] = -list_ab[0, :] * X_c**2 + UN + Y_c\n",
    "            Y[:, t] = list_ab[1, :] * X_c\n",
    "            X_c, Y_c = transfo_coupling_vec(G, X[:, t], Y[:, t], Eps)\n",
    "            for j in range(n):\n",
    "                normX = np.linalg.norm(X, axis=1)\n",
    "                normY = np.linalg.norm(Y, axis=1)\n",
    "                X[j, :] /= normX[j]\n",
    "                Y[j, :] /= normY[j]\n",
    "        return X, Y\n",
    "    "
   ]
  },
  {
   "cell_type": "code",
   "execution_count": 198,
   "id": "26deed1b",
   "metadata": {},
   "outputs": [
    {
     "name": "stdout",
     "output_type": "stream",
     "text": [
      "[3.16227766 7.28010989 8.54400375]\n"
     ]
    }
   ],
   "source": [
    "L = np.array([[1,2,3], [3,7,8]])\n",
    "print(np.linalg.norm(L, axis=0))"
   ]
  },
  {
   "cell_type": "markdown",
   "id": "03f8b811",
   "metadata": {},
   "source": [
    "Exemple sur un graphe simple"
   ]
  },
  {
   "cell_type": "code",
   "execution_count": 182,
   "id": "91209de7",
   "metadata": {},
   "outputs": [],
   "source": [
    "rng = np.random.default_rng(1234)"
   ]
  },
  {
   "cell_type": "code",
   "execution_count": 183,
   "id": "86d15da4",
   "metadata": {},
   "outputs": [
    {
     "name": "stdout",
     "output_type": "stream",
     "text": [
      "0.9766997666981422\n"
     ]
    }
   ],
   "source": [
    "Number_Nodes = 1000\n",
    "p = rng.uniform(0, 1)\n",
    "print(p)"
   ]
  },
  {
   "cell_type": "code",
   "execution_count": 184,
   "id": "98d94d85",
   "metadata": {},
   "outputs": [],
   "source": [
    "G = nx.erdos_renyi_graph(Number_Nodes, p, seed=42)\n",
    "\n",
    "plt.figure()\n",
    "nx.draw(G, with_labels=True)\n",
    "plt.show()"
   ]
  },
  {
   "cell_type": "code",
   "execution_count": 185,
   "id": "19910f6e",
   "metadata": {},
   "outputs": [],
   "source": [
    "list_ab = np.zeros((2, Number_Nodes))\n",
    "for i in range(Number_Nodes):\n",
    "    list_ab[0, i] = rng.uniform(0.6, 1.4)\n",
    "    list_ab[1, i] = 0.3"
   ]
  },
  {
   "cell_type": "markdown",
   "id": "c74762e4",
   "metadata": {},
   "source": [
    "Application sur le graphe de la cellule ci-dessus"
   ]
  },
  {
   "cell_type": "code",
   "execution_count": 186,
   "id": "f4185bbd",
   "metadata": {},
   "outputs": [],
   "source": [
    "N = 50\n",
    "Eps = 0.15"
   ]
  },
  {
   "cell_type": "code",
   "execution_count": 195,
   "id": "4131d540",
   "metadata": {},
   "outputs": [],
   "source": [
    "X_0 = [0.5 for _ in range(Number_Nodes)]\n",
    "Y_0 = [0.5 for _ in range(Number_Nodes)]"
   ]
  },
  {
   "cell_type": "markdown",
   "id": "84f0e906",
   "metadata": {},
   "source": [
    "TEST IF vectorized == not vectorized"
   ]
  },
  {
   "cell_type": "code",
   "execution_count": 202,
   "id": "475d4b32",
   "metadata": {},
   "outputs": [
    {
     "name": "stdout",
     "output_type": "stream",
     "text": [
      "evolution step 1\n",
      "evolution step 2\n",
      "evolution step 3\n",
      "evolution step 4\n",
      "evolution step 5\n",
      "evolution step 6\n",
      "evolution step 7\n",
      "evolution step 8\n",
      "evolution step 9\n",
      "evolution step 10\n",
      "evolution step 11\n",
      "evolution step 12\n",
      "evolution step 13\n",
      "evolution step 14\n",
      "evolution step 15\n",
      "evolution step 16\n",
      "evolution step 17\n",
      "evolution step 18\n",
      "evolution step 19\n",
      "evolution step 20\n",
      "evolution step 21\n",
      "evolution step 22\n",
      "evolution step 23\n",
      "evolution step 24\n",
      "evolution step 25\n",
      "evolution step 26\n",
      "evolution step 27\n",
      "evolution step 28\n",
      "evolution step 29\n",
      "evolution step 30\n",
      "evolution step 31\n",
      "evolution step 32\n",
      "evolution step 33\n",
      "evolution step 34\n",
      "evolution step 35\n",
      "evolution step 36\n",
      "evolution step 37\n",
      "evolution step 38\n",
      "evolution step 39\n",
      "evolution step 40\n",
      "evolution step 41\n",
      "evolution step 42\n",
      "evolution step 43\n",
      "evolution step 44\n",
      "evolution step 45\n",
      "evolution step 46\n",
      "evolution step 47\n",
      "evolution step 48\n",
      "evolution step 49\n",
      "evolution step 1\n",
      "evolution step 2\n",
      "evolution step 3\n",
      "evolution step 4\n",
      "evolution step 5\n",
      "evolution step 6\n",
      "evolution step 7\n",
      "evolution step 8\n"
     ]
    },
    {
     "name": "stderr",
     "output_type": "stream",
     "text": [
      "/Users/romanbeauvallet/Documents/CoursM2ENS/env_for_TD/lib/python3.13/site-packages/numpy/linalg/_linalg.py:2828: RuntimeWarning: overflow encountered in multiply\n",
      "  s = (x.conj() * x).real\n",
      "/var/folders/g9/2s_b0h716cdgj18bgy7tjlww0000gn/T/ipykernel_2226/1511318349.py:36: RuntimeWarning: overflow encountered in square\n",
      "  X[:, t] = -list_ab[0, :] * X_c**2 + UN + Y_c\n",
      "/var/folders/g9/2s_b0h716cdgj18bgy7tjlww0000gn/T/ipykernel_2226/1511318349.py:42: RuntimeWarning: invalid value encountered in divide\n",
      "  X[j, :] /= normX[j]\n"
     ]
    },
    {
     "name": "stdout",
     "output_type": "stream",
     "text": [
      "evolution step 9\n",
      "evolution step 10\n",
      "evolution step 11\n",
      "evolution step 12\n",
      "evolution step 13\n",
      "evolution step 14\n",
      "evolution step 15\n",
      "evolution step 16\n",
      "evolution step 17\n",
      "evolution step 18\n",
      "evolution step 19\n",
      "evolution step 20\n",
      "evolution step 21\n",
      "evolution step 22\n",
      "evolution step 23\n",
      "evolution step 24\n",
      "evolution step 25\n",
      "evolution step 26\n",
      "evolution step 27\n",
      "evolution step 28\n",
      "evolution step 29\n",
      "evolution step 30\n",
      "evolution step 31\n",
      "evolution step 32\n",
      "evolution step 33\n",
      "evolution step 34\n",
      "evolution step 35\n",
      "evolution step 36\n",
      "evolution step 37\n",
      "evolution step 38\n",
      "evolution step 39\n",
      "evolution step 40\n",
      "evolution step 41\n",
      "evolution step 42\n",
      "evolution step 43\n",
      "evolution step 44\n",
      "evolution step 45\n",
      "evolution step 46\n",
      "evolution step 47\n",
      "evolution step 48\n",
      "evolution step 49\n"
     ]
    }
   ],
   "source": [
    "X_vec, Y_vec = evolution_vec(G, X_0, Y_0, N, list_ab, Eps, True)\n",
    "X_not_vec, Y_not_vec = evolution_vec(G, X_0, Y_0, N, list_ab, Eps, False)\n",
    "\n",
    "X_vec_array = X_vec.T\n",
    "Y_vec_array = Y_vec.T\n",
    "\n",
    "X_not_vec_array= X_not_vec.T\n",
    "Y_not_vec_array= Y_not_vec.T"
   ]
  },
  {
   "cell_type": "code",
   "execution_count": 203,
   "id": "2fd384ad",
   "metadata": {},
   "outputs": [],
   "source": [
    "fig, (ax1, ax2) = plt.subplots(1, 2, figsize=(12, 5))\n",
    "\n",
    "\n",
    "colors = plt.colormaps['viridis'](np.linspace(0, 1, len(G.nodes)))\n",
    "labels = [f\"Nœud {i}\" for i in G.nodes()]\n",
    "\n",
    "# Tracé de X\n",
    "for i in range(Number_Nodes):\n",
    "    ax1.plot(X_vec_array[:, i], color=colors[i], label=labels[i])\n",
    "ax1.set_title(\"Évolution de X\")\n",
    "ax1.set_xlabel(\"Itération\")\n",
    "ax1.set_ylabel(\"Valeur de X\")\n",
    "#ax1.legend()\n",
    "ax1.grid(True)\n",
    "\n",
    "# Tracé de Y\n",
    "for i in range(Number_Nodes):\n",
    "    ax2.plot(Y_vec_array[:, i], color=colors[i], label=labels[i])\n",
    "ax2.set_title(\"Évolution de Y\")\n",
    "ax2.set_xlabel(\"Itération\")\n",
    "ax2.set_ylabel(\"Valeur de Y\")\n",
    "#ax2.legend()\n",
    "ax2.grid(True)\n",
    "\n",
    "plt.tight_layout()\n",
    "plt.show()"
   ]
  },
  {
   "cell_type": "code",
   "execution_count": 205,
   "id": "e40a08ca",
   "metadata": {},
   "outputs": [],
   "source": [
    "fig, (ax1, ax2) = plt.subplots(1, 2, figsize=(12, 5))\n",
    "\n",
    "\n",
    "colors = plt.colormaps['viridis'](np.linspace(0, 1, len(G.nodes)))\n",
    "labels = [f\"Nœud {i}\" for i in G.nodes()]\n",
    "\n",
    "# Tracé de X\n",
    "for i in range(Number_Nodes):\n",
    "    ax1.plot(X_not_vec_array[:, i], color=colors[i], label=labels[i])\n",
    "ax1.set_title(\"Évolution de X\")\n",
    "ax1.set_xlabel(\"Itération\")\n",
    "ax1.set_ylabel(\"Valeur de X\")\n",
    "#ax1.legend()\n",
    "ax1.grid(True)\n",
    "\n",
    "# Tracé de Y\n",
    "for i in range(Number_Nodes):\n",
    "    ax2.plot(Y_not_vec_array[:, i], color=colors[i], label=labels[i])\n",
    "ax2.set_title(\"Évolution de Y\")\n",
    "ax2.set_xlabel(\"Itération\")\n",
    "ax2.set_ylabel(\"Valeur de Y\")\n",
    "#ax2.legend()\n",
    "ax2.grid(True)\n",
    "\n",
    "plt.tight_layout()\n",
    "plt.show()"
   ]
  },
  {
   "cell_type": "code",
   "execution_count": null,
   "id": "4576d22e",
   "metadata": {},
   "outputs": [],
   "source": [
    "def count2D(data, axis: str):\n",
    "    assert len(np.shape(data)) == 2, \"wrong data shape input\"\n",
    "    if axis == \"x\":\n",
    "        p = 0\n",
    "    elif axis == \"y\":\n",
    "        p = 1\n",
    "    else:\n",
    "        \"wrong axis\"\n",
    "    simu = np.sort(data[p, p], axis=1)\n",
    "    k = len(simu)\n",
    "    nb_points = [1] * k\n",
    "    start = simu[0]\n",
    "    for i in range(k):\n",
    "        if simu[i] != start:\n",
    "            nb_points[i] += 1\n",
    "            start = simu[i]\n",
    "    return nb_points"
   ]
  },
  {
   "cell_type": "code",
   "execution_count": 106,
   "id": "4ede0044",
   "metadata": {},
   "outputs": [],
   "source": [
    "fig, ax = plt.subplots()\n",
    "ax.scatter(X_array, Y_array)\n",
    "ax.grid()\n",
    "plt.show()"
   ]
  }
 ],
 "metadata": {
  "kernelspec": {
   "display_name": "env_for_TD",
   "language": "python",
   "name": "python3"
  },
  "language_info": {
   "codemirror_mode": {
    "name": "ipython",
    "version": 3
   },
   "file_extension": ".py",
   "mimetype": "text/x-python",
   "name": "python",
   "nbconvert_exporter": "python",
   "pygments_lexer": "ipython3",
   "version": "3.13.3"
  }
 },
 "nbformat": 4,
 "nbformat_minor": 5
}
