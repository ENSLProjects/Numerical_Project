{
 "cells": [
  {
   "cell_type": "code",
   "execution_count": 110,
   "id": "1da7b56f",
   "metadata": {},
   "outputs": [
    {
     "name": "stdout",
     "output_type": "stream",
     "text": [
      "Matplotlib backend: qtagg\n"
     ]
    }
   ],
   "source": [
    "# Use inline backend for static figures in VS Code\n",
    "%matplotlib qt\n",
    "\n",
    "import numpy as np\n",
    "from tqdm import tqdm\n",
    "import networkx as nx\n",
    "\n",
    "# Remove explicit backend selection to avoid conflicts\n",
    "# import matplotlib\n",
    "# matplotlib.use('macosx')\n",
    "\n",
    "import matplotlib.pyplot as plt\n",
    "\n",
    "print('Matplotlib backend:', plt.get_backend())"
   ]
  },
  {
   "cell_type": "markdown",
   "id": "74d453cd",
   "metadata": {},
   "source": [
    "Hénon model: \n",
    "\\begin{align}\n",
    "    x_{n+1} &= y_n + 1 - ax_n^2\\\\\n",
    "    y_{n+1} &= bx_n\n",
    "\\end{align}\n"
   ]
  },
  {
   "cell_type": "code",
   "execution_count": 2,
   "id": "be1977a7",
   "metadata": {},
   "outputs": [],
   "source": [
    "def henon_map(a, b, x0, y0, n):\n",
    "    \"\"\"\n",
    "    Generate points of the Henon map\n",
    "    \"\"\"\n",
    "    x, y = x0, y0\n",
    "    points = np.zeros((n, 2))\n",
    "    for i in range(n):\n",
    "        x_new = 1 - a * x**2 + y\n",
    "        y_new = b * x\n",
    "        points[i, :] = [x_new, y_new]\n",
    "        x, y = x_new, y_new\n",
    "    return points\n",
    "\n",
    "\n",
    "def plot_henon_map(a, b, x0, y0, n, transitoire):\n",
    "    \"\"\"\n",
    "    Plot the Henon map\n",
    "    \"\"\"\n",
    "    points = henon_map(a, b, x0, y0, n)\n",
    "    fig, ax = plt.subplots()\n",
    "    ax.scatter(points[transitoire:, 0], points[transitoire:, 1])\n",
    "    ax.set_title(f\"Henon Map (a={a}, b={b})\")\n",
    "    ax.set_xlabel(\"x\")\n",
    "    ax.set_ylabel(\"y\")\n",
    "    ax.axis(\"equal\")\n",
    "    ax.grid(True)\n",
    "    plt.show()\n",
    "\n",
    "\n",
    "def plot_bifurcation_diagram(a_values, b, x0, y0, n, last, axis):\n",
    "    \"\"\"\n",
    "    Plot the bifurcation diagram of the Henon map\n",
    "    \"\"\"\n",
    "    fig, ax = plt.subplots()\n",
    "    if axis == \"x\":\n",
    "        for a in a_values:\n",
    "            points = henon_map(a, b, x0, y0, n)\n",
    "            ax.scatter([a] * last, points[-last:, 0], s=0.5, c=\"blue\")\n",
    "    else:\n",
    "        for a in a_values:\n",
    "            points = henon_map(a, b, x0, y0, n)\n",
    "            ax.scatter([a] * last, points[-last:, 1], s=0.5, c=\"blue\")\n",
    "    ax.set_title(f\"Bifurcation Diagram (b={b})\")\n",
    "    ax.set_xlabel(\"a\")\n",
    "    ax.set_ylabel(\"x\")\n",
    "    ax.grid(True)\n",
    "    plt.show()"
   ]
  },
  {
   "cell_type": "code",
   "execution_count": 3,
   "id": "d68191c8",
   "metadata": {},
   "outputs": [],
   "source": [
    "plot_henon_map(a=1, b=0.3, x0=0.1, y0=0.1, n=100000, transitoire=100)"
   ]
  },
  {
   "cell_type": "code",
   "execution_count": 4,
   "id": "665d1c45",
   "metadata": {},
   "outputs": [
    {
     "name": "stderr",
     "output_type": "stream",
     "text": [
      "/var/folders/g9/2s_b0h716cdgj18bgy7tjlww0000gn/T/ipykernel_7624/3436512866.py:8: RuntimeWarning: overflow encountered in scalar power\n",
      "  x_new = 1 - a * x**2 + y\n"
     ]
    }
   ],
   "source": [
    "plot_bifurcation_diagram(a_values=np.linspace(0, 1.6, 1000), b=0.3, x0=0.1, y0=0.1, n=10000, last=100, axis=\"x\")"
   ]
  },
  {
   "cell_type": "code",
   "execution_count": 5,
   "id": "ee1cd69f",
   "metadata": {},
   "outputs": [],
   "source": [
    "def coupled_henon_map(a, b, c, d, x0, y0, u0, v0, n, Eps):\n",
    "    \"\"\"Generate points of the coupled Henon map.\"\"\"\n",
    "    x, y = x0, y0\n",
    "    u, v = u0, v0\n",
    "    points = np.zeros((n, 2, 2))  # [(x, y, u, v)]\n",
    "    for i in range(n):\n",
    "        x_new = 1 - a * ((1 - Eps) * x + Eps * u) ** 2 + ((1 - Eps) * y + Eps * v)\n",
    "        y_new = b * ((1 - Eps) * x + Eps * u)\n",
    "        u_new = 1 - c * ((1 - Eps) * u + Eps * x) ** 2 + ((1 - Eps) * v + Eps * y)\n",
    "        v_new = d * ((1 - Eps) * u + Eps * x)\n",
    "\n",
    "        points[i, :, :] = [\n",
    "            [x_new, y_new],\n",
    "            [u_new, v_new],\n",
    "        ]  # append((x_new, y_new, u_new, v_new))\n",
    "        x, y = x_new, y_new\n",
    "        u, v = u_new, v_new\n",
    "\n",
    "    return points\n",
    "\n",
    "\n",
    "def plot_coupled_henon_map(a, b, c, d, x0, y0, u0, v0, n, Eps, transitoire):\n",
    "    \"\"\"Plot the coupled Henon map.\"\"\"\n",
    "    points = coupled_henon_map(a, b, c, d, x0, y0, u0, v0, n, Eps)\n",
    "    plt.plot(\n",
    "        points[transitoire:, 0, 0],\n",
    "        points[transitoire:, 0, 1],\n",
    "        \"b.\",\n",
    "        markersize=5,\n",
    "        label=\"Map 1\",\n",
    "    )\n",
    "    plt.plot(\n",
    "        points[transitoire:, 1, 0],\n",
    "        points[transitoire:, 1, 1],\n",
    "        \"r.\",\n",
    "        markersize=5,\n",
    "        label=\"Map 2\",\n",
    "    )\n",
    "    plt.title(f\"Coupled Henon Map (a={a}, b={b}, c={c}, d={d}, Eps={Eps})\")\n",
    "    plt.xlabel(\"First coordinate\")\n",
    "    plt.ylabel(\"Second coordinate\")\n",
    "    plt.axis(\"equal\")\n",
    "    plt.grid(True)\n",
    "    plt.legend()\n",
    "    plt.show()"
   ]
  },
  {
   "cell_type": "code",
   "execution_count": 6,
   "id": "5bb7cabd",
   "metadata": {},
   "outputs": [],
   "source": [
    "plot_coupled_henon_map(a=0.6, b=0.3,c = 1.2, d = 0.3, x0=0.1, y0=0.1, u0=0.1, v0=0.1, n=100000, Eps=0.1, transitoire=100) "
   ]
  },
  {
   "cell_type": "code",
   "execution_count": 8,
   "id": "06d5660a",
   "metadata": {},
   "outputs": [],
   "source": [
    "a = 1.2\n",
    "b = 0.3\n",
    "c = 0.3\n",
    "d = 0.3\n",
    "x0 = 0.0\n",
    "y0 = 0.0\n",
    "u0 = 0.0\n",
    "v0 = 0.0\n",
    "n = int(1e5)\n",
    "points_gardes = 2000\n",
    "transitoire = 500\n",
    "Eps = [0.1, 0.2, 0.3, 0.4, 0.5]"
   ]
  },
  {
   "cell_type": "code",
   "execution_count": 9,
   "id": "8fa7cbd9",
   "metadata": {},
   "outputs": [],
   "source": [
    "def coupling_sum(x, y, delta):\n",
    "    \"\"\"Return the average sum wrt a certain coupling value\"\"\"\n",
    "    assert 0 < delta < 1, \"wrong coupling\"\n",
    "    return (1 - delta) * x + delta * y\n",
    "\n",
    "\n",
    "def coupled_henon_wrt_coupling(a, b, c, d, x0, y0, u0, v0, n, Eps, points_gardes):\n",
    "    \"\"\"Compute the coupled Henon maps for several coupling strengths Eps.\n",
    "    Returns an array of shape (points_gardes, 2, num_couplings) where axis 0=time, axis1=(x,y), axis2=coupling index\n",
    "\n",
    "    be aware that it returns the coupled variables\n",
    "    \"\"\"\n",
    "    p = len(Eps)\n",
    "    points = np.zeros((points_gardes, 2, p))\n",
    "    all_points = np.zeros((points_gardes, 2, 2, p))\n",
    "    for i in range(p):\n",
    "        all_points[:, :, :, i] = coupled_henon_map(\n",
    "            a, b, c, d, x0, y0, u0, v0, n, Eps[i]\n",
    "        )[-points_gardes:, :, :]\n",
    "        points = coupling_sum(all_points[:, 0, :, :], all_points[:, 1, :, :], Eps[i])\n",
    "    return points"
   ]
  },
  {
   "cell_type": "code",
   "execution_count": 10,
   "id": "dc5fbfe3",
   "metadata": {},
   "outputs": [
    {
     "name": "stdout",
     "output_type": "stream",
     "text": [
      "simu shape: (2000, 2, 5)\n"
     ]
    }
   ],
   "source": [
    "simu = coupled_henon_wrt_coupling(a, b, c, d, x0, y0, u0, v0, n, Eps, points_gardes)\n",
    "print('simu shape:', np.shape(simu))"
   ]
  },
  {
   "cell_type": "code",
   "execution_count": 11,
   "id": "ff816d32",
   "metadata": {},
   "outputs": [
    {
     "name": "stdout",
     "output_type": "stream",
     "text": [
      "(2000,)\n"
     ]
    }
   ],
   "source": [
    "print(np.shape(list(simu[:,0,0])))"
   ]
  },
  {
   "cell_type": "code",
   "execution_count": 13,
   "id": "dae87c8c",
   "metadata": {},
   "outputs": [],
   "source": [
    "fig, ax = plt.subplots()\n",
    "for i in range(len(Eps)):\n",
    "    ax.scatter(simu[:,0,i], simu[:,1,i], s=0.5, label=f\"Eps = {Eps[i]}\")\n",
    "ax.set_xlabel(\"x\")\n",
    "ax.set_ylabel(\"y\")\n",
    "plt.legend()\n",
    "plt.show()"
   ]
  },
  {
   "cell_type": "markdown",
   "id": "4a9fbc04",
   "metadata": {},
   "source": [
    "détecter un régime périodique ou chaotique : pour un régime périodique le nombre de points stables différents est un multiple de 2"
   ]
  },
  {
   "cell_type": "code",
   "execution_count": 14,
   "id": "8c9afbb4",
   "metadata": {},
   "outputs": [],
   "source": [
    "def count(data, axis: str):\n",
    "    assert len(np.shape(data)) == 4, \"wrong data shape input\"\n",
    "    if axis == \"x\":\n",
    "        p = (0, 0)\n",
    "    elif axis == \"y\":\n",
    "        p = (0, 1)\n",
    "    elif axis == \"u\":\n",
    "        p = (1, 0)\n",
    "    elif axis == \"v\":\n",
    "        p = (1, 1)\n",
    "    else:\n",
    "        return \"axis not existent\"\n",
    "    simu = np.sort(data[:, p[0], p[1], :], axis=0)\n",
    "    k = len(simu[0])\n",
    "    nb_points = [1] * k\n",
    "    for i in range(k):\n",
    "        start = simu[0, i]\n",
    "        for j in range(1, len(simu)):\n",
    "            if simu[j, i] != start:\n",
    "                nb_points[i] += 1\n",
    "                start = simu[j, i]\n",
    "    return nb_points"
   ]
  },
  {
   "cell_type": "code",
   "execution_count": 15,
   "id": "f6006cbf",
   "metadata": {},
   "outputs": [],
   "source": [
    "def full_points(a, b, c, d, x0, y0, u0, v0, n, Eps, points_gardes):\n",
    "    p = len(Eps)\n",
    "    all_points = np.zeros((points_gardes, 2, 2, p))\n",
    "    for i in range(p):\n",
    "        all_points[:, :, :, i] = coupled_henon_map(\n",
    "            a, b, c, d, x0, y0, u0, v0, n, Eps[i]\n",
    "        )[-points_gardes:, :, :]\n",
    "    return all_points"
   ]
  },
  {
   "cell_type": "code",
   "execution_count": 16,
   "id": "38cc980b",
   "metadata": {},
   "outputs": [],
   "source": [
    "full_data = full_points(a, b, c, d, x0, y0, u0, v0, n, Eps, points_gardes)"
   ]
  },
  {
   "cell_type": "code",
   "execution_count": 17,
   "id": "f540c3ed",
   "metadata": {},
   "outputs": [
    {
     "name": "stdout",
     "output_type": "stream",
     "text": [
      "[ 0.98664644 -0.59563394  1.25548211 ... -0.59563394  1.25548211\n",
      " -1.03228212]\n"
     ]
    }
   ],
   "source": [
    "print(full_data[:,0,0,2])"
   ]
  },
  {
   "cell_type": "code",
   "execution_count": 18,
   "id": "56c01825",
   "metadata": {},
   "outputs": [
    {
     "data": {
      "text/plain": [
       "[2000, 11, 4, 9, 2]"
      ]
     },
     "execution_count": 18,
     "metadata": {},
     "output_type": "execute_result"
    }
   ],
   "source": [
    "count(full_data, \"x\")"
   ]
  },
  {
   "cell_type": "markdown",
   "id": "b2ebf519",
   "metadata": {},
   "source": [
    "Pour savoir si nombre de période discret ou continu il suffit de compter selon une des deux dimensions"
   ]
  },
  {
   "cell_type": "code",
   "execution_count": 19,
   "id": "157bf487",
   "metadata": {},
   "outputs": [],
   "source": [
    "rng = np.random.default_rng(12345)"
   ]
  },
  {
   "cell_type": "code",
   "execution_count": 20,
   "id": "f787e007",
   "metadata": {},
   "outputs": [],
   "source": [
    "Epsilon = rng.uniform(0, 1, 100)"
   ]
  },
  {
   "cell_type": "code",
   "execution_count": 21,
   "id": "edb8bbba",
   "metadata": {},
   "outputs": [],
   "source": [
    "Epsilon = np.abs(rng.normal(0.15, 1e-2, 1000))"
   ]
  },
  {
   "cell_type": "code",
   "execution_count": 22,
   "id": "615a1af5",
   "metadata": {},
   "outputs": [],
   "source": [
    "data = full_points(a, b, c, d, x0, y0, u0, v0, n, Epsilon, points_gardes)\n",
    "u_counting = count(data, \"u\")\n",
    "x_counting = count(data, \"x\")\n",
    "y_counting = count(data, \"y\")\n",
    "v_counting = count(data, \"v\")"
   ]
  },
  {
   "cell_type": "markdown",
   "id": "9a49664b",
   "metadata": {},
   "source": [
    "uncoupled data to compare with the coupling"
   ]
  },
  {
   "cell_type": "code",
   "execution_count": 23,
   "id": "2415ff98",
   "metadata": {},
   "outputs": [],
   "source": [
    "fig, (ax1, ax2) = plt.subplots(1, 2)\n",
    "ax1.scatter(Epsilon, x_counting, label=\"node 1: x\", marker=\"x\", s=10)\n",
    "ax1.scatter(Epsilon, u_counting, label=\"node 2: u\", marker=\"*\", s=10)\n",
    "ax1.set_xlabel(\"e coupling constant\")\n",
    "ax1.set_ylabel(\"number of different stable points of each node\")\n",
    "ax2.scatter(Epsilon, y_counting, label=\"node 1: y\", marker=\"x\", s=10)\n",
    "ax2.scatter(Epsilon, v_counting, label=\"node 2: v\", marker=\"*\", s=10)\n",
    "ax2.set_xlabel(\"e coupling constant\")\n",
    "ax1.legend()\n",
    "ax2.legend()\n",
    "plt.title(\"Fixed set of parameters for the Henon equations\")\n",
    "plt.show()"
   ]
  },
  {
   "cell_type": "markdown",
   "id": "17c817c4",
   "metadata": {},
   "source": [
    "Création d'une fonction qui transforme un graphe en système de Hénons couplés\n"
   ]
  },
  {
   "cell_type": "markdown",
   "id": "ab396acf",
   "metadata": {},
   "source": [
    "D'abord quelques fonctions pour transformer un graphe en Matrice de conectivité"
   ]
  },
  {
   "cell_type": "code",
   "execution_count": 24,
   "id": "b6f41f5c",
   "metadata": {},
   "outputs": [],
   "source": [
    "def connectivty(G): \n",
    "    return nx.to_numpy_array(G)\n",
    "\n",
    "#nx.to_scipy_sparse_array( ,format='csr')\n",
    "\n",
    "def neighbors(A, i):\n",
    "    neighborhood = []\n",
    "    for j in range(len(A)):\n",
    "        if A[j, i] == 1.0:\n",
    "            neighborhood.append(j)\n",
    "    return neighborhood"
   ]
  },
  {
   "cell_type": "markdown",
   "id": "a1abd884",
   "metadata": {},
   "source": [
    "les fonctions pour l'intégration"
   ]
  },
  {
   "cell_type": "code",
   "execution_count": null,
   "id": "88e78b26",
   "metadata": {},
   "outputs": [],
   "source": [
    "def transfo_coupling_vec(G, X, Y, Eps):\n",
    "    # X_new = np.zeros(len(G.nodes))\n",
    "    # Y_new = np.zeros(len(G.nodes))\n",
    "    m, n = len(X), len(Y)\n",
    "    assert m == n, \"missmatch dimension\"\n",
    "    Adjacance = connectivty(G)\n",
    "    weights = np.sum(Adjacance, axis=1)\n",
    "    if (weights == 0).any():\n",
    "        raise ValueError(\n",
    "            \"some nodes have no edges/neighbors/connections with other nodes\"\n",
    "        )  # comme ça pas de problème de type sur la sortie\n",
    "    transition = Eps * Adjacance * 1 / weights[:, np.newaxis] + np.identity(m)\n",
    "    X_new = np.dot(transition, X) - Eps * X\n",
    "    Y_new = np.dot(transition, Y) - Eps * Y\n",
    "    return X_new, Y_new\n",
    "\n",
    "\n",
    "def evolution_vec(G, X_0, Y_0, N, list_ab, Eps, Norm: bool, alpha=1.0):\n",
    "    n, m = len(X_0), len(Y_0)\n",
    "    assert n == m, \"wrong dimensions, both initial conditions don't have the same size\"\n",
    "    X = np.zeros((n, N))\n",
    "    Y = np.zeros((n, N))\n",
    "    UN = np.ones(len(G.nodes))\n",
    "    if Norm:\n",
    "        X[:, 0] = X_0 / np.linalg.norm(X_0) / alpha\n",
    "        Y[:, 0] = Y_0 / np.linalg.norm(Y_0) / alpha\n",
    "        X_c, Y_c = transfo_coupling_vec(G, X[:, 0], Y[:, 0], Eps)\n",
    "        for t in range(1, N):\n",
    "            # print(\"evolution step\", t)\n",
    "            mediumX = -list_ab[0, :] * X_c**2 + UN + Y_c\n",
    "            mediumY = list_ab[1, :] * X_c\n",
    "            X[:, t] = mediumX / np.linalg.norm(mediumX) / alpha\n",
    "            Y[:, t] = mediumY / np.linalg.norm(mediumY) / alpha\n",
    "            X_c, Y_c = transfo_coupling_vec(G, X[:, t], Y[:, t], Eps)\n",
    "        print(\"compute dynamic done\")\n",
    "        return X, Y\n",
    "    else:\n",
    "        X[:, 0] = X_0\n",
    "        Y[:, 0] = Y_0\n",
    "        X_c, Y_c = transfo_coupling_vec(G, X[:, 0], Y[:, 0], Eps)\n",
    "        for t in range(1, N):\n",
    "            # print(\"evolution step\", t)\n",
    "            X[:, t] = -list_ab[0, :] * X_c**2 + UN + Y_c\n",
    "            Y[:, t] = list_ab[1, :] * X_c\n",
    "            X_c, Y_c = transfo_coupling_vec(G, X[:, t], Y[:, t], Eps)\n",
    "        print(\"compute dynamic done\")\n",
    "        return X, Y"
   ]
  },
  {
   "cell_type": "markdown",
   "id": "f594a40c",
   "metadata": {},
   "source": [
    "there is an issue of we want to normalize againt time evolution because values are extremely small but not zero therefore if values are divided by the norm it leads to an overflow issue at some point"
   ]
  },
  {
   "cell_type": "markdown",
   "id": "03f8b811",
   "metadata": {},
   "source": [
    "Exemple sur un graphe simple"
   ]
  },
  {
   "cell_type": "code",
   "execution_count": 35,
   "id": "91209de7",
   "metadata": {},
   "outputs": [],
   "source": [
    "rng = np.random.default_rng(1234)"
   ]
  },
  {
   "cell_type": "code",
   "execution_count": 93,
   "id": "86d15da4",
   "metadata": {},
   "outputs": [
    {
     "name": "stdout",
     "output_type": "stream",
     "text": [
      "0.7534462037298352\n"
     ]
    }
   ],
   "source": [
    "Number_Nodes = 10\n",
    "p = rng.uniform(0, 1)\n",
    "print(p)"
   ]
  },
  {
   "cell_type": "code",
   "execution_count": 94,
   "id": "98d94d85",
   "metadata": {},
   "outputs": [],
   "source": [
    "G = nx.erdos_renyi_graph(Number_Nodes, p, seed=42)"
   ]
  },
  {
   "cell_type": "code",
   "execution_count": 95,
   "id": "713341f6",
   "metadata": {},
   "outputs": [],
   "source": [
    "plt.figure()\n",
    "nx.draw(G, with_labels=True)\n",
    "plt.show()"
   ]
  },
  {
   "cell_type": "code",
   "execution_count": 96,
   "id": "19910f6e",
   "metadata": {},
   "outputs": [],
   "source": [
    "list_ab = np.zeros((2, Number_Nodes))\n",
    "for i in range(Number_Nodes):\n",
    "    list_ab[0, i] = rng.uniform(1.13, 1.17)\n",
    "    list_ab[1, i] = 0.3"
   ]
  },
  {
   "cell_type": "markdown",
   "id": "c74762e4",
   "metadata": {},
   "source": [
    "Application sur le graphe de la cellule ci-dessus"
   ]
  },
  {
   "cell_type": "code",
   "execution_count": 99,
   "id": "f4185bbd",
   "metadata": {},
   "outputs": [
    {
     "data": {
      "text/plain": [
       "10000"
      ]
     },
     "execution_count": 99,
     "metadata": {},
     "output_type": "execute_result"
    }
   ],
   "source": [
    "N = 10000\n",
    "Eps = 0.15\n",
    "iteration = np.arange(0, N, 1)\n",
    "len(iteration)"
   ]
  },
  {
   "cell_type": "code",
   "execution_count": 100,
   "id": "4131d540",
   "metadata": {},
   "outputs": [],
   "source": [
    "X_0 = [0.5 for _ in range(Number_Nodes)]\n",
    "Y_0 = [0.5 for _ in range(Number_Nodes)]"
   ]
  },
  {
   "cell_type": "markdown",
   "id": "84f0e906",
   "metadata": {},
   "source": [
    "TEST IF vectorized == not vectorized"
   ]
  },
  {
   "cell_type": "code",
   "execution_count": 102,
   "id": "475d4b32",
   "metadata": {},
   "outputs": [],
   "source": [
    "X_vec, Y_vec = evolution_vec(G, X_0, Y_0, N, list_ab, Eps, True, alpha = 0.5)\n",
    "X_not_vec, Y_not_vec = evolution_vec(G, X_0, Y_0, N, list_ab, Eps, False)\n",
    "\n",
    "X_vec_array = X_vec.T\n",
    "Y_vec_array = Y_vec.T\n",
    "\n",
    "X_not_vec_array= X_not_vec.T\n",
    "Y_not_vec_array= Y_not_vec.T"
   ]
  },
  {
   "cell_type": "code",
   "execution_count": 103,
   "id": "947d153f",
   "metadata": {},
   "outputs": [],
   "source": [
    "fig, (ax1, ax2) = plt.subplots(1, 2, figsize=(12, 5))\n",
    "\n",
    "\n",
    "colors = plt.colormaps['viridis'](np.linspace(0, 1, len(G.nodes)))\n",
    "labels = [f\"Nœud {i}\" for i in G.nodes()]\n",
    "\n",
    "# Tracé de X normé\n",
    "for i in range(Number_Nodes):\n",
    "    ax1.plot(X_vec_array[:, i], color=colors[i], label=labels[i])\n",
    "ax1.set_title(\"Évolution de X normalisé\")\n",
    "ax1.set_xlabel(\"Itération\")\n",
    "ax1.set_ylabel(\"Valeur de X\")\n",
    "#ax1.legend()\n",
    "ax1.grid(True)\n",
    "\n",
    "# Tracé de X pas normé\n",
    "for i in range(Number_Nodes):\n",
    "    ax2.scatter(iteration, X_not_vec_array[:, i], color=colors[i], label=labels[i])\n",
    "ax2.set_title(\"Évolution de X\")\n",
    "ax2.set_xlabel(\"Itération\")\n",
    "ax2.set_ylabel(\"Valeur de X\")\n",
    "#ax2.legend()\n",
    "ax2.grid(True)\n",
    "\n",
    "plt.tight_layout()\n",
    "plt.show()"
   ]
  },
  {
   "cell_type": "code",
   "execution_count": 104,
   "id": "2fd384ad",
   "metadata": {},
   "outputs": [],
   "source": [
    "fig, (ax1, ax2) = plt.subplots(1, 2, figsize=(12, 5))\n",
    "\n",
    "\n",
    "colors = plt.colormaps['viridis'](np.linspace(0, 1, len(G.nodes)))\n",
    "labels = [f\"Nœud {i}\" for i in G.nodes()]\n",
    "\n",
    "# Tracé de X\n",
    "for i in range(Number_Nodes):\n",
    "    ax1.plot(X_vec_array[:, i], color=colors[i], label=labels[i])\n",
    "ax1.set_title(\"Évolution de X\")\n",
    "ax1.set_xlabel(\"Itération\")\n",
    "ax1.set_ylabel(\"Valeur de X\")\n",
    "#ax1.legend()\n",
    "ax1.grid(True)\n",
    "\n",
    "# Tracé de Y\n",
    "for i in range(Number_Nodes):\n",
    "    ax2.plot(Y_vec_array[:, i], color=colors[i], label=labels[i])\n",
    "ax2.set_title(\"Évolution de Y\")\n",
    "ax2.set_xlabel(\"Itération\")\n",
    "ax2.set_ylabel(\"Valeur de Y\")\n",
    "#ax2.legend()\n",
    "ax2.grid(True)\n",
    "\n",
    "plt.tight_layout()\n",
    "plt.show()"
   ]
  },
  {
   "cell_type": "code",
   "execution_count": 82,
   "id": "e40a08ca",
   "metadata": {},
   "outputs": [],
   "source": [
    "fig, (ax1, ax2) = plt.subplots(1, 2, figsize=(12, 5))\n",
    "\n",
    "\n",
    "colors = plt.colormaps['viridis'](np.linspace(0, 1, len(G.nodes)))\n",
    "labels = [f\"Nœud {i}\" for i in G.nodes()]\n",
    "\n",
    "# Tracé de X\n",
    "for i in range(Number_Nodes):\n",
    "    ax1.plot(X_not_vec_array[:, i], color=colors[i], label=labels[i])\n",
    "ax1.set_title(\"Évolution de X\")\n",
    "ax1.set_xlabel(\"Itération\")\n",
    "ax1.set_ylabel(\"Valeur de X\")\n",
    "#ax1.legend()\n",
    "ax1.grid(True)\n",
    "\n",
    "# Tracé de Y\n",
    "for i in range(Number_Nodes):\n",
    "    ax2.plot(Y_not_vec_array[:, i], color=colors[i], label=labels[i])\n",
    "ax2.set_title(\"Évolution de Y\")\n",
    "ax2.set_xlabel(\"Itération\")\n",
    "ax2.set_ylabel(\"Valeur de Y\")\n",
    "#ax2.legend()\n",
    "ax2.grid(True)\n",
    "\n",
    "plt.tight_layout()\n",
    "plt.show()"
   ]
  },
  {
   "cell_type": "code",
   "execution_count": 113,
   "id": "4576d22e",
   "metadata": {},
   "outputs": [],
   "source": [
    "def count2D(data, node):\n",
    "    \"\"\"\n",
    "    warning data is either x data or y data\n",
    "    \"\"\"\n",
    "    assert len(np.shape(data)) == 2, \"wrong data shape input\"\n",
    "    simu = np.sort(data[node, :])\n",
    "    k = len(simu)\n",
    "    nb_points = 1\n",
    "    start = simu[0]\n",
    "    for i in range(k):\n",
    "        if simu[i] != start:\n",
    "            nb_points += 1\n",
    "            start = simu[i]\n",
    "    return nb_points"
   ]
  },
  {
   "cell_type": "code",
   "execution_count": null,
   "id": "89f2c5de",
   "metadata": {},
   "outputs": [],
   "source": [
    "Epsilon = np.linspace(0.1, 0.2, 100)\n",
    "X_0 = [0.5 for _ in range(Number_Nodes)]\n",
    "Y_0 = [0.5 for _ in range(Number_Nodes)]\n",
    "transitoire = 1000\n",
    "node = 3"
   ]
  },
  {
   "cell_type": "code",
   "execution_count": 123,
   "id": "a9509fa9",
   "metadata": {},
   "outputs": [
    {
     "name": "stderr",
     "output_type": "stream",
     "text": [
      "100%|██████████| 100/100 [00:24<00:00,  4.09it/s]\n",
      "100%|██████████| 100/100 [00:24<00:00,  4.06it/s]\n"
     ]
    }
   ],
   "source": [
    "Xevol_forward, Yevol_forward = (\n",
    "    np.zeros((len(X_0), N, len(Epsilon))),\n",
    "    np.zeros((len(X_0), N, len(Epsilon))),\n",
    ")\n",
    "Xevol_backward, Yevol_backward = (\n",
    "    np.zeros((len(X_0), N, len(Epsilon))),\n",
    "    np.zeros((len(X_0), N, len(Epsilon))),\n",
    ")\n",
    "\n",
    "for i in tqdm(range(len(Epsilon))):\n",
    "    Xevol_forward[:, :, i], Yevol_forward[:, :, i] = evolution_vec(\n",
    "        G, X_0, Y_0, N, list_ab, Epsilon[i], False\n",
    "    )\n",
    "\n",
    "for i in tqdm(range(len(Epsilon))):\n",
    "    X_f, Y_f = Xevol_forward[:, -1, i], Yevol_forward[:, -1, i]\n",
    "    Xevol_backward[:, :, i], Yevol_backward[:, :, i] = evolution_vec(\n",
    "        G, X_f, Y_f, N, list_ab, Epsilon[i], False\n",
    "    )"
   ]
  },
  {
   "cell_type": "code",
   "execution_count": null,
   "id": "24e2f594",
   "metadata": {},
   "outputs": [],
   "source": [
    "count_forward = np.zeros(len(Epsilon))\n",
    "for j in range(len(Epsilon)):\n",
    "    count_forward[j] = count2D(Xevol_forward[:, transitoire:, j], node)\n",
    "\n",
    "count_backward = np.zeros(len(Epsilon))\n",
    "for j in range(len(Epsilon)):\n",
    "    count_backward[j] = count2D(Xevol_backward[:, transitoire:, j], node)\n",
    "\n",
    "reverseEps = list(reversed(Epsilon))"
   ]
  },
  {
   "cell_type": "code",
   "execution_count": 131,
   "id": "2b7fb1ba",
   "metadata": {},
   "outputs": [
    {
     "name": "stdout",
     "output_type": "stream",
     "text": [
      "[np.float64(0.2), np.float64(0.198989898989899), np.float64(0.19797979797979798), np.float64(0.19696969696969696), np.float64(0.19595959595959594), np.float64(0.19494949494949496), np.float64(0.19393939393939394), np.float64(0.19292929292929295), np.float64(0.19191919191919193), np.float64(0.19090909090909092), np.float64(0.1898989898989899), np.float64(0.18888888888888888), np.float64(0.18787878787878787), np.float64(0.18686868686868688), np.float64(0.18585858585858586), np.float64(0.18484848484848487), np.float64(0.18383838383838386), np.float64(0.18282828282828284), np.float64(0.18181818181818182), np.float64(0.1808080808080808), np.float64(0.1797979797979798), np.float64(0.17878787878787877), np.float64(0.17777777777777778), np.float64(0.17676767676767677), np.float64(0.17575757575757578), np.float64(0.17474747474747476), np.float64(0.17373737373737375), np.float64(0.17272727272727273), np.float64(0.1717171717171717), np.float64(0.1707070707070707), np.float64(0.1696969696969697), np.float64(0.1686868686868687), np.float64(0.1676767676767677), np.float64(0.16666666666666669), np.float64(0.16565656565656567), np.float64(0.16464646464646465), np.float64(0.16363636363636364), np.float64(0.16262626262626262), np.float64(0.16161616161616163), np.float64(0.1606060606060606), np.float64(0.1595959595959596), np.float64(0.1585858585858586), np.float64(0.1575757575757576), np.float64(0.15656565656565657), np.float64(0.15555555555555556), np.float64(0.15454545454545454), np.float64(0.15353535353535352), np.float64(0.15252525252525254), np.float64(0.15151515151515152), np.float64(0.1505050505050505), np.float64(0.14949494949494951), np.float64(0.1484848484848485), np.float64(0.14747474747474748), np.float64(0.14646464646464646), np.float64(0.14545454545454545), np.float64(0.14444444444444446), np.float64(0.14343434343434344), np.float64(0.14242424242424243), np.float64(0.14141414141414144), np.float64(0.14040404040404042), np.float64(0.1393939393939394), np.float64(0.1383838383838384), np.float64(0.13737373737373737), np.float64(0.13636363636363635), np.float64(0.13535353535353536), np.float64(0.13434343434343435), np.float64(0.13333333333333333), np.float64(0.13232323232323234), np.float64(0.13131313131313133), np.float64(0.1303030303030303), np.float64(0.1292929292929293), np.float64(0.12828282828282828), np.float64(0.1272727272727273), np.float64(0.12626262626262627), np.float64(0.12525252525252525), np.float64(0.12424242424242425), np.float64(0.12323232323232323), np.float64(0.12222222222222223), np.float64(0.12121212121212122), np.float64(0.1202020202020202), np.float64(0.1191919191919192), np.float64(0.1181818181818182), np.float64(0.11717171717171718), np.float64(0.11616161616161616), np.float64(0.11515151515151516), np.float64(0.11414141414141415), np.float64(0.11313131313131314), np.float64(0.11212121212121212), np.float64(0.11111111111111112), np.float64(0.1101010101010101), np.float64(0.1090909090909091), np.float64(0.10808080808080808), np.float64(0.10707070707070708), np.float64(0.10606060606060606), np.float64(0.10505050505050506), np.float64(0.10404040404040404), np.float64(0.10303030303030304), np.float64(0.10202020202020202), np.float64(0.10101010101010102), np.float64(0.1)]\n",
      "[0.1        0.1010101  0.1020202  0.1030303  0.1040404  0.10505051\n",
      " 0.10606061 0.10707071 0.10808081 0.10909091 0.11010101 0.11111111\n",
      " 0.11212121 0.11313131 0.11414141 0.11515152 0.11616162 0.11717172\n",
      " 0.11818182 0.11919192 0.12020202 0.12121212 0.12222222 0.12323232\n",
      " 0.12424242 0.12525253 0.12626263 0.12727273 0.12828283 0.12929293\n",
      " 0.13030303 0.13131313 0.13232323 0.13333333 0.13434343 0.13535354\n",
      " 0.13636364 0.13737374 0.13838384 0.13939394 0.14040404 0.14141414\n",
      " 0.14242424 0.14343434 0.14444444 0.14545455 0.14646465 0.14747475\n",
      " 0.14848485 0.14949495 0.15050505 0.15151515 0.15252525 0.15353535\n",
      " 0.15454545 0.15555556 0.15656566 0.15757576 0.15858586 0.15959596\n",
      " 0.16060606 0.16161616 0.16262626 0.16363636 0.16464646 0.16565657\n",
      " 0.16666667 0.16767677 0.16868687 0.16969697 0.17070707 0.17171717\n",
      " 0.17272727 0.17373737 0.17474747 0.17575758 0.17676768 0.17777778\n",
      " 0.17878788 0.17979798 0.18080808 0.18181818 0.18282828 0.18383838\n",
      " 0.18484848 0.18585859 0.18686869 0.18787879 0.18888889 0.18989899\n",
      " 0.19090909 0.19191919 0.19292929 0.19393939 0.19494949 0.1959596\n",
      " 0.1969697  0.1979798  0.1989899  0.2       ]\n"
     ]
    }
   ],
   "source": [
    "print(reverseEps)\n",
    "print(Epsilon)"
   ]
  },
  {
   "cell_type": "code",
   "execution_count": 132,
   "id": "1d4c1313",
   "metadata": {},
   "outputs": [],
   "source": [
    "fig, ax = plt.subplots()\n",
    "ax.plot(Epsilon, count_forward)\n",
    "ax.plot(Epsilon, count_backward)\n",
    "plt.show()"
   ]
  }
 ],
 "metadata": {
  "kernelspec": {
   "display_name": "env_for_TD",
   "language": "python",
   "name": "python3"
  },
  "language_info": {
   "codemirror_mode": {
    "name": "ipython",
    "version": 3
   },
   "file_extension": ".py",
   "mimetype": "text/x-python",
   "name": "python",
   "nbconvert_exporter": "python",
   "pygments_lexer": "ipython3",
   "version": "3.13.3"
  }
 },
 "nbformat": 4,
 "nbformat_minor": 5
}
